{
  "nbformat": 4,
  "nbformat_minor": 0,
  "metadata": {
    "colab": {
      "provenance": []
    },
    "kernelspec": {
      "name": "python3",
      "display_name": "Python 3"
    },
    "language_info": {
      "name": "python"
    }
  },
  "cells": [
    {
      "cell_type": "markdown",
      "source": [
        "# **Data Profiling and Quality Report**\n",
        "\n",
        "\n",
        "---\n",
        "\n"
      ],
      "metadata": {
        "id": "c1fYEiKBB64v"
      }
    },
    {
      "cell_type": "markdown",
      "source": [
        "####1. Import Libraries: Load Pandas and NumPy for data handling.\n",
        "\n",
        "####2. Load Dataset: Read CSV into df (low_memory=False for large files).\n",
        "\n",
        "####3. Preview Data: df.head() shows the first few rows.\n",
        "\n",
        "####4. Dataset Size: df.shape gives rows and columns.\n",
        "\n",
        "####5. Column Info: df.dtypes shows data types.\n",
        "\n",
        "####6. Missing Values: df.isnull().sum() counts NaNs per column.\n",
        "\n",
        "####7. Missing Data Map: df.isna() highlights where values are missing."
      ],
      "metadata": {
        "id": "rEwMDNHQ4aha"
      }
    },
    {
      "cell_type": "code",
      "execution_count": 1,
      "metadata": {
        "id": "2slP6IdIhFo_"
      },
      "outputs": [],
      "source": [
        "# Import Libraries\n",
        "import numpy as np\n",
        "import pandas as pd"
      ]
    },
    {
      "cell_type": "code",
      "source": [
        "# Load your log file\n",
        "df = pd.read_csv(\"/content/logs_preprocessed.csv\", low_memory=False)"
      ],
      "metadata": {
        "id": "_bsLCfHNhMZN"
      },
      "execution_count": 2,
      "outputs": []
    },
    {
      "cell_type": "code",
      "source": [
        "print(df.head()) # head() => used to display first five rows in dataset"
      ],
      "metadata": {
        "colab": {
          "base_uri": "https://localhost:8080/"
        },
        "id": "y5SsjsdXjBsR",
        "outputId": "cc053b65-063f-4e23-ef4d-c94e515b5580"
      },
      "execution_count": 3,
      "outputs": [
        {
          "output_type": "stream",
          "name": "stdout",
          "text": [
            "                                  filename    dut dut_version os_version  \\\n",
            "0  tc_func_tcp_tfg_001_20240722-113936.log  Cisco         1.2      Linux   \n",
            "1  tc_func_tcp_tfg_001_20240722-113936.log  Cisco         1.2      Linux   \n",
            "2  tc_func_tcp_tfg_001_20240722-114249.log  Cisco         1.2      Linux   \n",
            "3  tc_func_tcp_tfg_001_20240722-114249.log  Cisco         1.2      Linux   \n",
            "4  tc_func_tcp_tfg_001_20240722-114343.log  Cisco         1.2      Linux   \n",
            "\n",
            "      config             test_case_id  line_number                timestamp  \\\n",
            "0  tcp_cisco  tc_func_tcp_tfg_001.tcl          568  2024-07-22 11:40:13.618   \n",
            "1  tcp_cisco  tc_func_tcp_tfg_001.tcl          693  2024-07-22 11:40:18.642   \n",
            "2  tcp_cisco  tc_func_tcp_tfg_001.tcl          566  2024-07-22 11:43:16.338   \n",
            "3  tcp_cisco  tc_func_tcp_tfg_001.tcl          691  2024-07-22 11:43:21.375   \n",
            "4  tcp_cisco  tc_func_tcp_tfg_001.tcl          566  2024-07-22 11:44:10.802   \n",
            "\n",
            "     run_date status                                          error_msg suite  \\\n",
            "0  2024-07-22  ABORT              Could not receive Ping reply from H2.   tcp   \n",
            "1  2024-07-22  ABORT  Could not receive Ping reply from H2.           #   tcp   \n",
            "2  2024-07-22  ABORT              Could not receive Ping reply from H2.   tcp   \n",
            "3  2024-07-22  ABORT  Could not receive Ping reply from H2.           #   tcp   \n",
            "4  2024-07-22  ABORT              Could not receive Ping reply from H2.   tcp   \n",
            "\n",
            "                                            raw_line  \n",
            "0  11:40:13.618 # TEST CASE ABORTED : Could not r...  \n",
            "1  11:40:18.642 # Result: ABORTED  Could not rece...  \n",
            "2  11:43:16.338 # TEST CASE ABORTED : Could not r...  \n",
            "3  11:43:21.375 # Result: ABORTED  Could not rece...  \n",
            "4  11:44:10.802 # TEST CASE ABORTED : Could not r...  \n"
          ]
        }
      ]
    },
    {
      "cell_type": "code",
      "source": [
        "print(\"Dataset Shape:\", df.shape) # Display the rows and columns\n",
        "print(\"\\nColumn Info:\") # print the statement\n",
        "print(df.dtypes) # Print the datatypes of the column"
      ],
      "metadata": {
        "colab": {
          "base_uri": "https://localhost:8080/"
        },
        "id": "g84cnHPthZI7",
        "outputId": "99523f9c-f1a9-4fff-d27b-6a855b1ed201"
      },
      "execution_count": 4,
      "outputs": [
        {
          "output_type": "stream",
          "name": "stdout",
          "text": [
            "Dataset Shape: (8605, 13)\n",
            "\n",
            "Column Info:\n",
            "filename        object\n",
            "dut             object\n",
            "dut_version     object\n",
            "os_version      object\n",
            "config          object\n",
            "test_case_id    object\n",
            "line_number      int64\n",
            "timestamp       object\n",
            "run_date        object\n",
            "status          object\n",
            "error_msg       object\n",
            "suite           object\n",
            "raw_line        object\n",
            "dtype: object\n"
          ]
        }
      ]
    },
    {
      "cell_type": "code",
      "source": [
        "print(df.isnull().sum()) # Identify the Missing values\n"
      ],
      "metadata": {
        "colab": {
          "base_uri": "https://localhost:8080/"
        },
        "id": "REGaFf9nBoUV",
        "outputId": "bc2ea98e-0fd6-4119-dc9f-a41ffabe1f74"
      },
      "execution_count": 5,
      "outputs": [
        {
          "output_type": "stream",
          "name": "stdout",
          "text": [
            "filename        0\n",
            "dut             0\n",
            "dut_version     0\n",
            "os_version      0\n",
            "config          0\n",
            "test_case_id    0\n",
            "line_number     0\n",
            "timestamp       0\n",
            "run_date        0\n",
            "status          0\n",
            "error_msg       0\n",
            "suite           0\n",
            "raw_line        0\n",
            "dtype: int64\n"
          ]
        }
      ]
    },
    {
      "cell_type": "markdown",
      "source": [
        "##**Coverage,Missing Values, and Duplicate Values**\n",
        "\n",
        "---\n",
        "####This code generates a detailed missing values report for a DataFrame by counting the number and percentage of missing entries in each column. It shows which columns have missing data and to what extent, helping identify where data cleaning or imputation is needed.\n"
      ],
      "metadata": {
        "id": "spgQ3Npv3eOL"
      }
    },
    {
      "cell_type": "code",
      "source": [
        "# Calculate the count of missing (NA) values per column\n",
        "missing_report = df.isna().sum().reset_index()\n",
        "\n",
        "# Rename columns for clear display: 'Column' for column names, 'Missing_Count' for missing value counts\n",
        "missing_report.columns = [\"Column\",\"Missing_Count\"]\n",
        "\n",
        "# Calculate the percentage of missing values relative to total rows for each column\n",
        "missing_report[\"Missing_%\"] = (missing_report[\"Missing_Count\"] / len(df)) * 100\n",
        "\n",
        "# Print a report sorted by descending missing percentage to highlight worst columns first\n",
        "print(\"\\nMissing Values Report:\")\n",
        "print(missing_report.sort_values(\"Missing_%\", ascending=False))\n"
      ],
      "metadata": {
        "colab": {
          "base_uri": "https://localhost:8080/"
        },
        "id": "cHgxLe5QhciE",
        "outputId": "01925263-9bad-4b54-a5f4-902912897f9c"
      },
      "execution_count": 6,
      "outputs": [
        {
          "output_type": "stream",
          "name": "stdout",
          "text": [
            "\n",
            "Missing Values Report:\n",
            "          Column  Missing_Count  Missing_%\n",
            "0       filename              0        0.0\n",
            "1            dut              0        0.0\n",
            "2    dut_version              0        0.0\n",
            "3     os_version              0        0.0\n",
            "4         config              0        0.0\n",
            "5   test_case_id              0        0.0\n",
            "6    line_number              0        0.0\n",
            "7      timestamp              0        0.0\n",
            "8       run_date              0        0.0\n",
            "9         status              0        0.0\n",
            "10     error_msg              0        0.0\n",
            "11         suite              0        0.0\n",
            "12      raw_line              0        0.0\n"
          ]
        }
      ]
    },
    {
      "cell_type": "code",
      "source": [
        "# Count the number of duplicate rows in the DataFrame\n",
        "duplicate_count = df.duplicated().sum()\n",
        "\n",
        "# Print the total count of duplicate rows found\n",
        "print(f\"\\nDuplicate Rows: {duplicate_count}\")\n"
      ],
      "metadata": {
        "colab": {
          "base_uri": "https://localhost:8080/"
        },
        "id": "ZI5myjHvhfvr",
        "outputId": "8cb418c7-05a8-4bc2-80dc-f68b8dc21ea3"
      },
      "execution_count": 7,
      "outputs": [
        {
          "output_type": "stream",
          "name": "stdout",
          "text": [
            "\n",
            "Duplicate Rows: 0\n"
          ]
        }
      ]
    },
    {
      "cell_type": "markdown",
      "source": [
        "####This code calculates data coverage per column in the DataFrame by counting non-missing values and computing their percentage relative to the total rows. It then prints a report sorted by coverage percentage, helping identify columns with incomplete data coverage."
      ],
      "metadata": {
        "id": "ZByW867F4src"
      }
    },
    {
      "cell_type": "code",
      "source": [
        "# Create a new DataFrame summarizing columns, count of non-missing values, and coverage percentage\n",
        "coverage_report = pd.DataFrame({\n",
        "    \"Column\": df.columns,\n",
        "    \"NonNull_Count\": df.notna().sum(),\n",
        "    \"Coverage_%\": (df.notna().sum() / len(df)) * 100\n",
        "})\n",
        "\n",
        "# Print a heading for the coverage report\n",
        "print(\"\\nData Coverage:\")\n",
        "\n",
        "# Print the coverage report sorted by lowest coverage percentage first\n",
        "print(coverage_report.sort_values(\"Coverage_%\"))\n"
      ],
      "metadata": {
        "colab": {
          "base_uri": "https://localhost:8080/"
        },
        "id": "7_mF6a2YhjkD",
        "outputId": "e8a3a94a-7f7a-441e-e8dc-90d329f709fe"
      },
      "execution_count": 8,
      "outputs": [
        {
          "output_type": "stream",
          "name": "stdout",
          "text": [
            "\n",
            "Data Coverage:\n",
            "                    Column  NonNull_Count  Coverage_%\n",
            "filename          filename           8605       100.0\n",
            "dut                    dut           8605       100.0\n",
            "dut_version    dut_version           8605       100.0\n",
            "os_version      os_version           8605       100.0\n",
            "config              config           8605       100.0\n",
            "test_case_id  test_case_id           8605       100.0\n",
            "line_number    line_number           8605       100.0\n",
            "timestamp        timestamp           8605       100.0\n",
            "run_date          run_date           8605       100.0\n",
            "status              status           8605       100.0\n",
            "error_msg        error_msg           8605       100.0\n",
            "suite                suite           8605       100.0\n",
            "raw_line          raw_line           8605       100.0\n"
          ]
        }
      ]
    },
    {
      "cell_type": "markdown",
      "source": [
        "## **Critical Fields**\n",
        "\n",
        "---\n",
        "\n",
        "####This code filters the coverage report to focus only on a set of critical columns important for machine learning readiness. It then prints the coverage details for these selected critical fields, helping quickly assess their data completeness."
      ],
      "metadata": {
        "id": "bSGQFJpL5NF1"
      }
    },
    {
      "cell_type": "code",
      "source": [
        "# Define a list of critical columns needed for ML or core analysis\n",
        "critical_fields = [\"test_case_id\", \"dut\", \"suite\", \"config\", \"error_msg\", \"status\", \"run_date\", \"timestamp\"]\n",
        "\n",
        "# Filter the coverage report DataFrame to include only these critical columns\n",
        "critical_report = coverage_report[coverage_report[\"Column\"].isin(critical_fields)]\n",
        "\n",
        "# Print the coverage details for the critical fields\n",
        "print(\"\\nCritical Fields Coverage (ML readiness):\")\n",
        "print(critical_report)\n"
      ],
      "metadata": {
        "colab": {
          "base_uri": "https://localhost:8080/"
        },
        "id": "04HUX7C-hno9",
        "outputId": "f6fd4b70-8f3f-41c7-e79c-032395c4cc5f"
      },
      "execution_count": 13,
      "outputs": [
        {
          "output_type": "stream",
          "name": "stdout",
          "text": [
            "\n",
            "Critical Fields Coverage (ML readiness):\n",
            "                    Column  NonNull_Count  Coverage_%\n",
            "dut                    dut           8605       100.0\n",
            "config              config           8605       100.0\n",
            "test_case_id  test_case_id           8605       100.0\n",
            "timestamp        timestamp           8605       100.0\n",
            "run_date          run_date           8605       100.0\n",
            "status              status           8605       100.0\n",
            "error_msg        error_msg           8605       100.0\n",
            "suite                suite           8605       100.0\n"
          ]
        }
      ]
    },
    {
      "cell_type": "markdown",
      "source": [
        "##**Identify Gaps**\n",
        "\n",
        "---\n",
        "#### This code checks for potential data quality issues and prints warnings about key areas that need attention. It highlights missing values in important columns such as DUT version, OS version, and error messages, and warns if duplicate rows are present. The final print statement marks the completion of the profiling step.\n"
      ],
      "metadata": {
        "id": "jWMAB9gs5oxo"
      }
    },
    {
      "cell_type": "code",
      "source": [
        "# Print header for missing data and quality gaps report\n",
        "print(\"\\nPotential Gaps to Fix:\")\n",
        "\n",
        "# Check if 'dut_version' column exists and has missing values, warn about its reliability\n",
        "if \"dut_version\" in df.columns:\n",
        "    print(\"- DUT Version has missing values → may not be reliable for ML.\")\n",
        "\n",
        "# Check if 'os_version' exists and has missing values, print count needing better extraction\n",
        "if \"os_version\" in df.columns and df[\"os_version\"].isna().sum() > 0:\n",
        "    print(f\"- OS Version missing in {df['os_version'].isna().sum()} rows → need better extraction.\")\n",
        "\n",
        "# Warn if any logs have missing error messages\n",
        "if df[\"error_msg\"].isna().sum() > 0:\n",
        "    print(\"- Some logs have no error messages.\")\n",
        "\n",
        "# Warn if any duplicate rows exist in dataset\n",
        "if duplicate_count > 0:\n",
        "    print(\"- Dataset has duplicate rows, consider removing them.\")\n",
        "\n",
        "# Indicate profiling process is complete\n",
        "print(\"\\nProfiling Complete.\")\n"
      ],
      "metadata": {
        "id": "bbtBqzWtiVvi",
        "colab": {
          "base_uri": "https://localhost:8080/"
        },
        "outputId": "6a6c4254-df51-441b-cbde-bbda662cc301"
      },
      "execution_count": 14,
      "outputs": [
        {
          "output_type": "stream",
          "name": "stdout",
          "text": [
            "\n",
            "Potential Gaps to Fix:\n",
            "- DUT Version has missing values → may not be reliable for ML.\n",
            "\n",
            "Profiling Complete.\n"
          ]
        }
      ]
    },
    {
      "cell_type": "code",
      "source": [],
      "metadata": {
        "id": "-kWasg3b6TqZ"
      },
      "execution_count": null,
      "outputs": []
    }
  ]
}